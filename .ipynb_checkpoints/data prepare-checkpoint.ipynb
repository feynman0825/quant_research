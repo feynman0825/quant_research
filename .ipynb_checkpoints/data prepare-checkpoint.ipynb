{
 "cells": [
  {
   "cell_type": "code",
   "execution_count": 1,
   "metadata": {},
   "outputs": [
    {
     "name": "stdout",
     "output_type": "stream",
     "text": [
      "auth success\n"
     ]
    }
   ],
   "source": [
    "from opendatatools import swindex\n",
    "import matplotlib.pyplot as plt\n",
    "import pandas as pd\n",
    "import numpy as np\n",
    "import os\n",
    "\n",
    "from jqdatasdk import *\n",
    "#auth('17780620786','xxb19880825')\n",
    "auth('15397649986','dd111477')\n",
    "\n",
    "%matplotlib inline\n",
    "%config InlineBackend.figure_format = 'svg'"
   ]
  },
  {
   "cell_type": "code",
   "execution_count": 12,
   "metadata": {},
   "outputs": [
    {
     "name": "stdout",
     "output_type": "stream",
     "text": [
      "0\n",
      "100\n",
      "200\n",
      "300\n",
      "400\n",
      "500\n",
      "600\n",
      "700\n",
      "800\n",
      "900\n",
      "1000\n",
      "1100\n",
      "1200\n",
      "1300\n",
      "1400\n",
      "1500\n",
      "1600\n",
      "1700\n",
      "1800\n",
      "1900\n",
      "2000\n",
      "2100\n",
      "2200\n",
      "2300\n",
      "2400\n",
      "2500\n",
      "2600\n",
      "2700\n",
      "2800\n",
      "2900\n",
      "3000\n",
      "3100\n",
      "3200\n",
      "3300\n",
      "3400\n",
      "3500\n",
      "3600\n"
     ]
    }
   ],
   "source": [
    "path = 'data/price/'\n",
    "files = os.listdir(path)\n",
    "for i in range(len(files)):\n",
    "    if i % 100 == 0:\n",
    "        print(i)\n",
    "    fn = files[i]\n",
    "    df = pd.read_csv(path+fn,parse_dates=[0],dtype={'paused':np.bool})\n",
    "    df['symbol'] = fn[:-4]\n",
    "    df = df.rename(columns={'Unnamed: 0':'date'})\n",
    "    if i == 0:\n",
    "        price_df = df.copy()\n",
    "    else:\n",
    "        price_df = price_df.append(df,ignore_index=True)#pd.concat([price_df,df],axis=0,ignore_index=True)\n"
   ]
  },
  {
   "cell_type": "code",
   "execution_count": 13,
   "metadata": {
    "collapsed": true
   },
   "outputs": [],
   "source": [
    "#price_df.to_csv('price.csv',index=False)"
   ]
  },
  {
   "cell_type": "code",
   "execution_count": 13,
   "metadata": {
    "collapsed": true
   },
   "outputs": [],
   "source": [
    "price_df = pd.read_csv('price.csv',parse_dates=[0],dtype={'paused':np.bool})\n",
    "price_df = price_df.set_index(['symbol','date'])"
   ]
  },
  {
   "cell_type": "code",
   "execution_count": 34,
   "metadata": {
    "collapsed": true
   },
   "outputs": [],
   "source": [
    "#industry_df = pd.read_csv('data/others/industry_elements.csv',encoding='gbk',parse_dates=[2],usecols=['name','start_date','value'])\n",
    "#industry_df = industry_df[industry_df['start_date'] >= '2005-01-01']"
   ]
  },
  {
   "cell_type": "code",
   "execution_count": 43,
   "metadata": {
    "collapsed": true
   },
   "outputs": [],
   "source": [
    "# d = {}\n",
    "# for dt in get_all_trade_days():\n",
    "#     dt = dt.strftime('%Y-%m-%d')\n",
    "#     d[dt] = get_industry_stocks(,date=dt)"
   ]
  },
  {
   "cell_type": "code",
   "execution_count": 19,
   "metadata": {
    "collapsed": true
   },
   "outputs": [],
   "source": [
    "# dt = get_all_trade_days()[0]"
   ]
  },
  {
   "cell_type": "code",
   "execution_count": 29,
   "metadata": {
    "collapsed": true
   },
   "outputs": [],
   "source": [
    "#all_stocks = [fn[:-4] for fn in os.listdir(path)]\n",
    "\n",
    "#get_industry_stocks('HY001')"
   ]
  },
  {
   "cell_type": "code",
   "execution_count": null,
   "metadata": {
    "collapsed": true
   },
   "outputs": [],
   "source": []
  }
 ],
 "metadata": {
  "kernelspec": {
   "display_name": "Python 3",
   "language": "python",
   "name": "python3"
  },
  "language_info": {
   "codemirror_mode": {
    "name": "ipython",
    "version": 3
   },
   "file_extension": ".py",
   "mimetype": "text/x-python",
   "name": "python",
   "nbconvert_exporter": "python",
   "pygments_lexer": "ipython3",
   "version": "3.6.3"
  }
 },
 "nbformat": 4,
 "nbformat_minor": 2
}
