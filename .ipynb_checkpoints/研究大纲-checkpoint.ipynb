{
 "cells": [
  {
   "cell_type": "markdown",
   "metadata": {},
   "source": [
    "# 研究大纲"
   ]
  },
  {
   "cell_type": "markdown",
   "metadata": {},
   "source": [
    "## 研究课题\n",
    "\n",
    "机器学习与alpha模型的实践应用"
   ]
  },
  {
   "cell_type": "markdown",
   "metadata": {},
   "source": [
    "## 研究思路\n",
    "\n",
    "![workflow](https://raw.githubusercontent.com/feynman0825/markdown_pictures/master/quant%20equity%20workflow.png)\n",
    "\n",
    "1.利用机器学习模型生成alpha预测或者股票收益预测\n",
    "\n",
    "2.构建风险模型\n",
    "\n",
    "3.组合优化（单期优化或多期优化）\n",
    "\n",
    "4.交易执行"
   ]
  },
  {
   "cell_type": "markdown",
   "metadata": {},
   "source": [
    "## 具体研究计划\n",
    "\n",
    "#### 预测模型\n",
    "\n",
    "1. 先做EDA，不解释\n",
    "\n",
    "2. 构建研究数据集，不解释\n",
    "\n",
    "3. 确定ML性能评价指标\n",
    "\n",
    "4. 就经典ML模型进行调参优化，先构建一些base model，然后用多experts组合\n",
    "\n",
    "5. 复现前沿论文\n",
    "\n",
    "#### 风险模型\n",
    "\n",
    "1.基于Barra基础上，构建对于协方差的因子风险模型\n",
    "2.尝试risk parity风险模型\n",
    "\n",
    "#### 组合优化\n",
    "\n",
    "1. 单期优化\n",
    "\n",
    "基于凸优化框架，尝试多效用函数及约束条件；尝试稳健优化；尝试进化算法\n",
    "\n",
    "2. 多期优化\n",
    "\n",
    "尝试动态规划\n",
    "\n",
    "3. 尝试on-line selection\n",
    "\n",
    "#### 强化学习尝试"
   ]
  },
  {
   "cell_type": "code",
   "execution_count": null,
   "metadata": {
    "collapsed": true
   },
   "outputs": [],
   "source": []
  },
  {
   "cell_type": "code",
   "execution_count": null,
   "metadata": {
    "collapsed": true
   },
   "outputs": [],
   "source": []
  },
  {
   "cell_type": "code",
   "execution_count": null,
   "metadata": {
    "collapsed": true
   },
   "outputs": [],
   "source": []
  },
  {
   "cell_type": "code",
   "execution_count": null,
   "metadata": {
    "collapsed": true
   },
   "outputs": [],
   "source": []
  }
 ],
 "metadata": {
  "kernelspec": {
   "display_name": "Python 3",
   "language": "python",
   "name": "python3"
  },
  "language_info": {
   "codemirror_mode": {
    "name": "ipython",
    "version": 3
   },
   "file_extension": ".py",
   "mimetype": "text/x-python",
   "name": "python",
   "nbconvert_exporter": "python",
   "pygments_lexer": "ipython3",
   "version": "3.6.3"
  }
 },
 "nbformat": 4,
 "nbformat_minor": 2
}
