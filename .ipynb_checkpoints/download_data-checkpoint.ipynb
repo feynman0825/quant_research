{
 "cells": [
  {
   "cell_type": "code",
   "execution_count": 1,
   "metadata": {},
   "outputs": [
    {
     "name": "stdout",
     "output_type": "stream",
     "text": [
      "auth success\n"
     ]
    }
   ],
   "source": [
    "import matplotlib.pyplot as plt\n",
    "import pandas as pd\n",
    "import numpy as np\n",
    "import cvxpy as cvx\n",
    "from sklearn.linear_model import LinearRegression\n",
    "from jqdatasdk import *\n",
    "auth('17780620786','xxb19880825')\n",
    "#auth('15397649986','dd111477')\n",
    "\n",
    "%matplotlib inline\n",
    "%config InlineBackend.figure_format = 'svg'"
   ]
  },
  {
   "cell_type": "markdown",
   "metadata": {},
   "source": [
    "## 准备历史行情数据"
   ]
  },
  {
   "cell_type": "code",
   "execution_count": 2,
   "metadata": {},
   "outputs": [
    {
     "name": "stdout",
     "output_type": "stream",
     "text": [
      "There are 0 stocks need to be downloaded\n"
     ]
    }
   ],
   "source": [
    "def download(path='data/price/',start_date='2005-01-01',end_date='2017-12-31'):\n",
    "    import os\n",
    "    def download_one_stock_price(stock,path='data/price/'):\n",
    "        \"\"\"\n",
    "            下载单个股票历史行情\n",
    "        \"\"\"\n",
    "        fn = stock + '.csv'\n",
    "        data =  get_price(stock,start_date=start_date,end_date=end_date,\n",
    "                           frequency='daily',fq='pre',skip_paused=True,\n",
    "                      fields=['open','high','low','close','volume','money','paused'])\n",
    "        data.to_csv(path+fn)\n",
    "        \n",
    "    def get_stock_list(all_stocks,path='data/price/'):\n",
    "        \"\"\"\n",
    "            得到待下载列表\n",
    "        \"\"\"\n",
    "        if os.path.exists(path):\n",
    "            exist_files = os.listdir(path)\n",
    "            exist_stocks = [file[:-4] for file in exist_files]\n",
    "            stock_list = sorted(list(set(all_stocks).difference(set(exist_stocks))))\n",
    "        else:\n",
    "            stock_list = sorted(all_stocks)\n",
    "        return stock_list\n",
    "        \n",
    "    all_stocks = list(get_all_securities(['stock']).index)\n",
    "    stock_list = get_stock_list(all_stocks,path='data/price/')\n",
    "    print('There are',len(stock_list),'stocks need to be downloaded')\n",
    "    \n",
    "    try:\n",
    "        for stock in stock_list:\n",
    "            download_one_stock_price(stock,path=path)\n",
    "            print('downloaded ' + stock)\n",
    "    except:\n",
    "        pass\n",
    "download(path='data/price/')"
   ]
  },
  {
   "cell_type": "code",
   "execution_count": null,
   "metadata": {
    "collapsed": true
   },
   "outputs": [],
   "source": []
  },
  {
   "cell_type": "code",
   "execution_count": null,
   "metadata": {
    "collapsed": true
   },
   "outputs": [],
   "source": []
  },
  {
   "cell_type": "code",
   "execution_count": null,
   "metadata": {
    "collapsed": true
   },
   "outputs": [],
   "source": []
  },
  {
   "cell_type": "code",
   "execution_count": null,
   "metadata": {
    "collapsed": true
   },
   "outputs": [],
   "source": []
  },
  {
   "cell_type": "code",
   "execution_count": null,
   "metadata": {
    "collapsed": true
   },
   "outputs": [],
   "source": []
  }
 ],
 "metadata": {
  "kernelspec": {
   "display_name": "Python 3",
   "language": "python",
   "name": "python3"
  },
  "language_info": {
   "codemirror_mode": {
    "name": "ipython",
    "version": 3
   },
   "file_extension": ".py",
   "mimetype": "text/x-python",
   "name": "python",
   "nbconvert_exporter": "python",
   "pygments_lexer": "ipython3",
   "version": "3.6.3"
  }
 },
 "nbformat": 4,
 "nbformat_minor": 2
}
